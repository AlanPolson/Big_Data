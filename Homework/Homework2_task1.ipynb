{
 "cells": [
  {
   "cell_type": "code",
   "execution_count": 1,
   "metadata": {
    "collapsed": true
   },
   "outputs": [],
   "source": [
    "import csv"
   ]
  },
  {
   "cell_type": "code",
   "execution_count": 2,
   "metadata": {
    "collapsed": false
   },
   "outputs": [
    {
     "name": "stdout",
     "output_type": "stream",
     "text": [
      "{'end_station_id': '423', 'gender': '2', 'bikeid': '17131', 'start_station_latitude': '40.75044999', 'end_station_name': 'W 54 St & 9 Ave', 'cartodb_id': '1', 'start_station_name': '8 Ave & W 31 St', 'start_station_id': '521', 'start_station_longitude': '-73.99481051', 'usertype': 'Subscriber', 'stoptime': '2015-02-01 00:14:00+00', 'end_station_longitude': '-73.98690506', 'starttime': '2015-02-01 00:00:00+00', 'end_station_latitude': '40.76584941', 'tripduration': '801', 'the_geom': '', 'birth_year': '1978'}\n"
     ]
    }
   ],
   "source": [
    "filename = \"citibike.csv\"\n",
    "with open (filename,\"r\") as fi:\n",
    "    reader = csv.DictReader(fi)\n",
    "    for ride in reader:\n",
    "        print ride\n",
    "        break"
   ]
  },
  {
   "cell_type": "code",
   "execution_count": 39,
   "metadata": {
    "collapsed": false
   },
   "outputs": [],
   "source": [
    "def DOBgen(filename):\n",
    "    with open (filename,\"r\") as fi:\n",
    "        reader = csv.DictReader(fi)\n",
    "        for row in reader:\n",
    "            #age = 2016-int(row['birth_year'])\n",
    "            if row['birth_year']!='':\n",
    "                age = 2016-(int(row['birth_year']))\n",
    "            yield age\n",
    "\n",
    "age = DOBgen(\"citibike.csv\")"
   ]
  },
  {
   "cell_type": "code",
   "execution_count": 41,
   "metadata": {
    "collapsed": false
   },
   "outputs": [],
   "source": [
    "count = {}\n",
    "for rider in age:\n",
    "    count[rider] = count.get(rider,0)+1"
   ]
  },
  {
   "cell_type": "code",
   "execution_count": 42,
   "metadata": {
    "collapsed": false
   },
   "outputs": [
    {
     "data": {
      "text/plain": [
       "{17: 18,\n",
       " 18: 61,\n",
       " 19: 95,\n",
       " 20: 127,\n",
       " 21: 259,\n",
       " 22: 405,\n",
       " 23: 473,\n",
       " 24: 503,\n",
       " 25: 940,\n",
       " 26: 1369,\n",
       " 27: 1331,\n",
       " 28: 1368,\n",
       " 29: 1760,\n",
       " 30: 1585,\n",
       " 31: 1697,\n",
       " 32: 1740,\n",
       " 33: 1814,\n",
       " 34: 1473,\n",
       " 35: 1521,\n",
       " 36: 1533,\n",
       " 37: 1303,\n",
       " 38: 1388,\n",
       " 39: 1138,\n",
       " 40: 1182,\n",
       " 41: 1080,\n",
       " 42: 1169,\n",
       " 43: 1031,\n",
       " 44: 1094,\n",
       " 45: 1174,\n",
       " 46: 1357,\n",
       " 47: 1146,\n",
       " 48: 1016,\n",
       " 49: 1015,\n",
       " 50: 869,\n",
       " 51: 956,\n",
       " 52: 899,\n",
       " 53: 980,\n",
       " 54: 905,\n",
       " 55: 623,\n",
       " 56: 782,\n",
       " 57: 697,\n",
       " 58: 795,\n",
       " 59: 452,\n",
       " 60: 489,\n",
       " 61: 420,\n",
       " 62: 422,\n",
       " 63: 352,\n",
       " 64: 251,\n",
       " 65: 232,\n",
       " 66: 151,\n",
       " 67: 135,\n",
       " 68: 151,\n",
       " 69: 74,\n",
       " 70: 93,\n",
       " 71: 28,\n",
       " 72: 59,\n",
       " 73: 18,\n",
       " 74: 61,\n",
       " 75: 40,\n",
       " 76: 22,\n",
       " 77: 4,\n",
       " 78: 25,\n",
       " 81: 9,\n",
       " 82: 8,\n",
       " 87: 1,\n",
       " 90: 1,\n",
       " 94: 4,\n",
       " 106: 2,\n",
       " 115: 1,\n",
       " 116: 24}"
      ]
     },
     "execution_count": 42,
     "metadata": {},
     "output_type": "execute_result"
    }
   ],
   "source": [
    "count"
   ]
  },
  {
   "cell_type": "code",
   "execution_count": 45,
   "metadata": {
    "collapsed": false
   },
   "outputs": [],
   "source": [
    "nth_value = ((sum(count.values()))+1)/2"
   ]
  },
  {
   "cell_type": "code",
   "execution_count": 48,
   "metadata": {
    "collapsed": false
   },
   "outputs": [
    {
     "data": {
      "text/plain": [
       "23100"
      ]
     },
     "execution_count": 48,
     "metadata": {},
     "output_type": "execute_result"
    }
   ],
   "source": [
    "nth_value"
   ]
  },
  {
   "cell_type": "code",
   "execution_count": 52,
   "metadata": {
    "collapsed": false
   },
   "outputs": [],
   "source": [
    "def get_med(count):\n",
    "    nth_value = ((sum(count.values()))+1)/2\n",
    "    for age in count.keys():\n",
    "        nth_value -= count[age]\n",
    "        if nth_value<=0:\n",
    "            return age\n",
    "median = get_med(count)"
   ]
  },
  {
   "cell_type": "code",
   "execution_count": 53,
   "metadata": {
    "collapsed": false
   },
   "outputs": [
    {
     "data": {
      "text/plain": [
       "39"
      ]
     },
     "execution_count": 53,
     "metadata": {},
     "output_type": "execute_result"
    }
   ],
   "source": [
    "median"
   ]
  },
  {
   "cell_type": "code",
   "execution_count": 54,
   "metadata": {
    "collapsed": false
   },
   "outputs": [
    {
     "data": {
      "text/plain": [
       "23100"
      ]
     },
     "execution_count": 54,
     "metadata": {},
     "output_type": "execute_result"
    }
   ],
   "source": [
    "nth_value"
   ]
  },
  {
   "cell_type": "code",
   "execution_count": null,
   "metadata": {
    "collapsed": true
   },
   "outputs": [],
   "source": []
  }
 ],
 "metadata": {
  "kernelspec": {
   "display_name": "Python 2",
   "language": "python",
   "name": "python2"
  },
  "language_info": {
   "codemirror_mode": {
    "name": "ipython",
    "version": 2
   },
   "file_extension": ".py",
   "mimetype": "text/x-python",
   "name": "python",
   "nbconvert_exporter": "python",
   "pygments_lexer": "ipython2",
   "version": "2.7.11"
  }
 },
 "nbformat": 4,
 "nbformat_minor": 0
}
